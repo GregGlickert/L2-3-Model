{
 "cells": [
  {
   "cell_type": "code",
   "execution_count": 4,
   "metadata": {},
   "outputs": [
    {
     "name": "stdout",
     "output_type": "stream",
     "text": [
      "Submitting block: block1\n",
      "Waiting for block block1 to complete...\n",
      "Block block1 completed.\n",
      "Submitting block: block2\n",
      "Waiting for block block2 to complete...\n",
      "Block block2 completed.\n"
     ]
    }
   ],
   "source": [
    "from job import SlurmJob\n",
    "from submit import submit_job\n",
    "#from monitor import check_job_status\n",
    "from block import SimulationBlock, SequentialBlockRunner\n",
    "\n",
    "# Define simulation cases\n",
    "# simulation_cases (dict): Dictionary of simulation cases and their corresponding commands.\n",
    "simulation_cases = {\n",
    "    \"baseline\": \"mpiexec nrniv -mpi -python batch_test1.py\",\n",
    "    \"short\": \"mpiexec nrniv -mpi -python batch_test2.py\",\n",
    "    \"long\": \"mpiexec nrniv -mpi -python batch_test3.py\"\n",
    "}\n",
    "\n",
    "# This way works but don't wanna do this way if you have loads of blocks\n",
    "# Create blocks with the defined simulation cases\n",
    "#block1 = SimulationBlock('block1', 'output', '01:00:00', 'batch', 1, 4, simulation_cases)\n",
    "#block2 = SimulationBlock('block2', 'output', '01:00:00', 'batch', 1, 4, simulation_cases)\n",
    "# Create a SequentialBlockRunner with the blocks\n",
    "#runner = SequentialBlockRunner([block1, block2],checkDone=60)\n",
    "\n",
    "# this way is a bit better\n",
    "# Define block parameters\n",
    "# could add other params like account to allow working on Expanse\n",
    "block_params = {\n",
    "    'base_output_file': 'output',\n",
    "    'time': '01:00:00',\n",
    "    'partition': 'batch',\n",
    "    'nodes': 1,\n",
    "    'ntasks': 4\n",
    "}\n",
    "\n",
    "# Define the number of blocks to create\n",
    "num_blocks = 2\n",
    "\n",
    "# Create a list to hold the blocks\n",
    "blocks = []\n",
    "\n",
    "# Create blocks with the defined simulation cases\n",
    "for i in range(1, num_blocks + 1):\n",
    "    block_name = f'block{i}'\n",
    "    block = SimulationBlock(block_name, **block_params, simulation_cases=simulation_cases)\n",
    "    blocks.append(block)\n",
    "\n",
    "# Create a SequentialBlockRunner with the blocks\n",
    "runner = SequentialBlockRunner(blocks,checkDone=15)\n",
    "\n",
    "# Submit the blocks sequentially\n",
    "runner.submit_blocks_sequentially()"
   ]
  }
 ],
 "metadata": {
  "kernelspec": {
   "display_name": "bmtk",
   "language": "python",
   "name": "python3"
  },
  "language_info": {
   "codemirror_mode": {
    "name": "ipython",
    "version": 3
   },
   "file_extension": ".py",
   "mimetype": "text/x-python",
   "name": "python",
   "nbconvert_exporter": "python",
   "pygments_lexer": "ipython3",
   "version": "3.8.18"
  }
 },
 "nbformat": 4,
 "nbformat_minor": 2
}
