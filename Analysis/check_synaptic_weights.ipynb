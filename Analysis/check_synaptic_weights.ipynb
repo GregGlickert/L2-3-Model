{
 "cells": [
  {
   "cell_type": "code",
   "execution_count": 1,
   "metadata": {},
   "outputs": [
    {
     "data": {
      "text/plain": [
       "<KeysViewHDF5 ['edges']>"
      ]
     },
     "execution_count": 1,
     "metadata": {},
     "output_type": "execute_result"
    }
   ],
   "source": [
    "import h5py\n",
    "\n",
    "path = \"../Network-Parameters/updated_conns/cortex_cortex_edges.h5\"\n",
    "edge = h5py.File(path)\n",
    "edge.keys()"
   ]
  },
  {
   "cell_type": "code",
   "execution_count": 2,
   "metadata": {},
   "outputs": [
    {
     "data": {
      "text/plain": [
       "<KeysViewHDF5 ['cortex_cortex']>"
      ]
     },
     "execution_count": 2,
     "metadata": {},
     "output_type": "execute_result"
    }
   ],
   "source": [
    "edge['edges'].keys()"
   ]
  },
  {
   "cell_type": "code",
   "execution_count": 3,
   "metadata": {},
   "outputs": [
    {
     "data": {
      "text/plain": [
       "<KeysViewHDF5 ['0', '1', 'edge_group_id', 'edge_group_index', 'edge_type_id', 'indices', 'source_node_id', 'target_node_id']>"
      ]
     },
     "execution_count": 3,
     "metadata": {},
     "output_type": "execute_result"
    }
   ],
   "source": [
    "network = 'cortex_cortex'\n",
    "edge['edges'][network].keys()"
   ]
  },
  {
   "cell_type": "code",
   "execution_count": 4,
   "metadata": {},
   "outputs": [
    {
     "data": {
      "text/plain": [
       "<KeysViewHDF5 ['sec_id', 'sec_x', 'syn_weight']>"
      ]
     },
     "execution_count": 4,
     "metadata": {},
     "output_type": "execute_result"
    }
   ],
   "source": [
    "edge['edges'][network][\"0\"].keys()"
   ]
  },
  {
   "cell_type": "code",
   "execution_count": 7,
   "metadata": {},
   "outputs": [],
   "source": [
    "from bmtool.util.util import load_nodes_from_config\n",
    "\n",
    "nodes = load_nodes_from_config(\"../Network-Parameters/simulation_config_baseline.json\")"
   ]
  },
  {
   "cell_type": "code",
   "execution_count": 10,
   "metadata": {},
   "outputs": [
    {
     "data": {
      "text/plain": [
       "UInt64Index([   0,    1,    2,    3,    4,    5,    6,    7,    8,    9,\n",
       "             ...\n",
       "             8690, 8691, 8692, 8693, 8694, 8695, 8696, 8697, 8698, 8699],\n",
       "            dtype='uint64', name='node_id', length=8700)"
      ]
     },
     "execution_count": 10,
     "metadata": {},
     "output_type": "execute_result"
    }
   ],
   "source": [
    "df = nodes['cortex']\n",
    "PN_cells = df[df['pop_name'] == 'PN']\n",
    "FSI_cells = df[df['pop_name'] == 'FSI']\n",
    "LTS_cells = df[df['pop_name'] == 'LTS']\n",
    "PN_cells.index"
   ]
  },
  {
   "cell_type": "code",
   "execution_count": 25,
   "metadata": {},
   "outputs": [
    {
     "data": {
      "image/png": "[encoded data removed]",
      "text/plain": [
       "<Figure size 640x480 with 1 Axes>"
      ]
     },
     "metadata": {},
     "output_type": "display_data"
    }
   ],
   "source": [
    "import matplotlib.pyplot as plt\n",
    "%matplotlib inline\n",
    "\n",
    "weights = edge['edges'][network][\"0\"]['syn_weight'][:]\n",
    "source_id = edge['edges'][network]['source_node_id'][:]\n",
    "target_id = edge['edges'][network]['target_node_id'][:]\n",
    "\n",
    "source_cell = PN_cells\n",
    "target_cell = PN_cells\n",
    "pair_weights = []\n",
    "for i in range(len(weights)):\n",
    "    if source_id[i] in source_cell.index and  target_id[i] in target_cell.index:\n",
    "            pair_weights.append(weights[i])\n",
    "\n",
    "\n",
    "_ = plt.hist(weights)\n"
   ]
  },
  {
   "cell_type": "markdown",
   "metadata": {},
   "source": [
    "Weight look correct thats good "
   ]
  },
  {
   "cell_type": "code",
   "execution_count": null,
   "metadata": {},
   "outputs": [],
   "source": []
  }
 ],
 "metadata": {
  "kernelspec": {
   "display_name": "bmtk",
   "language": "python",
   "name": "python3"
  },
  "language_info": {
   "codemirror_mode": {
    "name": "ipython",
    "version": 3
   },
   "file_extension": ".py",
   "mimetype": "text/x-python",
   "name": "python",
   "nbconvert_exporter": "python",
   "pygments_lexer": "ipython3",
   "version": "3.8.18"
  }
 },
 "nbformat": 4,
 "nbformat_minor": 2
}
