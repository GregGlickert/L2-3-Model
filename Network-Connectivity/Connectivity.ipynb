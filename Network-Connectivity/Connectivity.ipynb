{
 "cells": [
  {
   "cell_type": "markdown",
   "metadata": {},
   "source": [
    "# conn notebook"
   ]
  },
  {
   "cell_type": "markdown",
   "metadata": {},
   "source": [
    "## PN2PN conns\n",
    "* ### L2/3 PRC to L2/3 PRC 8/240 Hirai et al 2012\n",
    "* ### PN 2 PN 61/542 connections with 7 pairs reciprocally Holmgren et al 2003\n",
    "#### Within a cylindrical volume of 400 mm w 200 mm containing 2512 pyramidal cells, the central cell may receive inputs from 58 other pyramidal cells, giving an average connection probability of about 2%.\n",
    "#### Percent conn\n",
    "![image name](PN-conn.png)\n",
    "#### convergence\n",
    "![image name](PN-connvergence.png)"
   ]
  },
  {
   "cell_type": "markdown",
   "metadata": {},
   "source": [
    "## PN2FSI\n",
    "#### percent connn\n",
    "![image name](PN2FSI-conn.png)\n",
    "#### Convergence\n",
    "![image name](PN2FSI-connvergence.png)\n",
    "\n",
    "#### In a cylindrical volume of 200 mm w 200 mm containing 628 pyramidal cells, we calculated that 492 pyramids innervate a given interneuron, 487 pyramids receive inhibitory inputs from the same interneuron, and 432 pyramids are reciprocally connected to this interneuron. Within the same volume, a pyramidal cell may receive synaptic inputs from only 33 other pyramidal cells."
   ]
  },
  {
   "cell_type": "markdown",
   "metadata": {},
   "source": []
  }
 ],
 "metadata": {
  "language_info": {
   "name": "python"
  }
 },
 "nbformat": 4,
 "nbformat_minor": 2
}
