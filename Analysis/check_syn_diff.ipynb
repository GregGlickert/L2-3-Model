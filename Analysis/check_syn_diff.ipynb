{
 "cells": [
  {
   "cell_type": "markdown",
   "metadata": {},
   "source": [
    "## This notebook is useful to compare two different simulation runs and see what exactly the different synaptic parameters were for those two runs."
   ]
  },
  {
   "cell_type": "code",
   "execution_count": 1,
   "metadata": {},
   "outputs": [
    {
     "data": {
      "text/plain": [
       "{'FSI2PN.json': {'values_changed': {\"root['initW']\": {'new_value': 3.1,\n",
       "    'old_value': 3.3},\n",
       "   \"root['e_GABAA']\": {'new_value': -90.0, 'old_value': -75.0}}},\n",
       " 'LTS2PN.json': {'type_changes': {\"root['initW']\": {'old_type': float,\n",
       "    'new_type': int,\n",
       "    'old_value': 3.3,\n",
       "    'new_value': 1}},\n",
       "  'values_changed': {\"root['e_GABAA']\": {'new_value': -90.0,\n",
       "    'old_value': -75.0}}},\n",
       " 'LTS2FSI.json': {'values_changed': {\"root['initW']\": {'new_value': 0.7,\n",
       "    'old_value': 1.4}}},\n",
       " 'Pulse2PN.json': {'values_changed': {\"root['initW']\": {'new_value': 8.11,\n",
       "    'old_value': 8.5}}}}"
      ]
     },
     "metadata": {},
     "output_type": "display_data"
    }
   ],
   "source": [
    "import json\n",
    "from deepdiff import DeepDiff\n",
    "\n",
    "# Load JSON files\n",
    "def load_json(file_path):\n",
    "    with open(file_path, 'r') as file:\n",
    "        return json.load(file)\n",
    "\n",
    "# Custom function to ensure all elements are serializable\n",
    "def make_serializable(obj):\n",
    "    if isinstance(obj, dict):\n",
    "        return {k: make_serializable(v) for k, v in obj.items()}\n",
    "    elif isinstance(obj, list):\n",
    "        return [make_serializable(elem) for elem in obj]\n",
    "    elif isinstance(obj, set):\n",
    "        return list(obj)\n",
    "    else:\n",
    "        return obj\n",
    "\n",
    "# Compare JSON files with filenames\n",
    "def compare_json(json1, json2):\n",
    "    differences = {}\n",
    "    for entry1, entry2 in zip(json1, json2):\n",
    "        filename1 = entry1['filename']\n",
    "        filename2 = entry2['filename']\n",
    "        diff = DeepDiff(entry1['data'], entry2['data'], ignore_order=True).to_dict()  # Convert DeepDiff object to dict\n",
    "        if diff:\n",
    "            differences[filename1] = make_serializable(diff)  # Ensure all elements are serializable\n",
    "    return differences\n",
    "\n",
    "# Paths to the JSON files\n",
    "file1_path = '/home/gjgpb9/L2-3-Model/Run-Storage/LTS2FSI/block4/long/synaptic_report.json'\n",
    "file2_path = '/home/gjgpb9/L2-3-Model/Run-Storage/Pulse2PN/block1/long/synaptic_report.json'\n",
    "\n",
    "# Load the JSON data\n",
    "json1 = load_json(file1_path)\n",
    "json2 = load_json(file2_path)\n",
    "\n",
    "# Compare the JSON data\n",
    "differences = compare_json(json1, json2)\n",
    "\n",
    "display(differences)\n"
   ]
  }
 ],
 "metadata": {
  "kernelspec": {
   "display_name": "bmtk",
   "language": "python",
   "name": "python3"
  },
  "language_info": {
   "codemirror_mode": {
    "name": "ipython",
    "version": 3
   },
   "file_extension": ".py",
   "mimetype": "text/x-python",
   "name": "python",
   "nbconvert_exporter": "python",
   "pygments_lexer": "ipython3",
   "version": "3.8.18"
  }
 },
 "nbformat": 4,
 "nbformat_minor": 2
}
